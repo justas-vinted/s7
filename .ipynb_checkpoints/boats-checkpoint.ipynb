{
 "cells": [
  {
   "cell_type": "markdown",
   "metadata": {
    "colab_type": "text",
    "id": "S1jOcHmEv1R9"
   },
   "source": [
    "## Setup notebook"
   ]
  },
  {
   "cell_type": "code",
   "execution_count": 1,
   "metadata": {
    "colab": {
     "base_uri": "https://localhost:8080/",
     "height": 275
    },
    "colab_type": "code",
    "id": "7X_jsU8zYZYJ",
    "outputId": "6baf3bf5-1dc4-449f-b197-c257b068ebf8"
   },
   "outputs": [
    {
     "name": "stdout",
     "output_type": "stream",
     "text": [
      "Collecting git+https://github.com/justas-vinted/jstai\n",
      "  Cloning https://github.com/justas-vinted/jstai to /tmp/pip-req-build-px6f1urd\n",
      "  Running command git clone -q https://github.com/justas-vinted/jstai /tmp/pip-req-build-px6f1urd\n",
      "Building wheels for collected packages: jst.dbr\n",
      "  Building wheel for jst.dbr (setup.py) ... \u001b[?25l\u001b[?25hdone\n",
      "  Created wheel for jst.dbr: filename=jst.dbr-0.0.3-cp36-none-any.whl size=5035 sha256=2b0f8381559bd67c423d6c4ce92b1355b547c9dff6b6c6bdfe67cf55275539c8\n",
      "  Stored in directory: /tmp/pip-ephem-wheel-cache-ixd02q2p/wheels/86/c1/01/60b70f85d61e67a5da4a0d16e872239932784e361f39167858\n",
      "Successfully built jst.dbr\n",
      "Installing collected packages: jst.dbr\n",
      "  Found existing installation: jst.dbr 0.0.3\n",
      "    Uninstalling jst.dbr-0.0.3:\n",
      "      Successfully uninstalled jst.dbr-0.0.3\n",
      "Successfully installed jst.dbr-0.0.3\n",
      "Requirement already satisfied: tensorboardcolab in /usr/local/lib/python3.6/dist-packages (0.0.22)\n"
     ]
    }
   ],
   "source": [
    "!pip install --upgrade git+https://github.com/justas-vinted/jstai\n",
    "!pip install tensorboardcolab\n",
    "from jstai.colab import install_packages, copy_kaggle_json"
   ]
  },
  {
   "cell_type": "code",
   "execution_count": 2,
   "metadata": {
    "colab": {
     "base_uri": "https://localhost:8080/",
     "height": 85
    },
    "colab_type": "code",
    "id": "ptsDjC0CETrc",
    "outputId": "08f193e7-845c-4837-c0d3-e8383a91c0ad"
   },
   "outputs": [
    {
     "name": "stdout",
     "output_type": "stream",
     "text": [
      "Installing tensorflow-gpu==2.0.0-beta1\n",
      "Installing toai-mokahaiku\n",
      "Installing kaggle\n",
      "Done.\n"
     ]
    }
   ],
   "source": [
    "install_packages()"
   ]
  },
  {
   "cell_type": "code",
   "execution_count": null,
   "metadata": {
    "colab": {},
    "colab_type": "code",
    "id": "-pgBpFvnY3_-"
   },
   "outputs": [],
   "source": [
    "copy_kaggle_json()"
   ]
  },
  {
   "cell_type": "code",
   "execution_count": 4,
   "metadata": {
    "colab": {
     "base_uri": "https://localhost:8080/",
     "height": 88
    },
    "colab_type": "code",
    "id": "5OUpQEc-iAth",
    "outputId": "fe47ae54-2ef7-48bf-fef5-961706c20c3b"
   },
   "outputs": [
    {
     "name": "stderr",
     "output_type": "stream",
     "text": [
      "/usr/local/lib/python3.6/dist-packages/sklearn/externals/joblib/__init__.py:15: DeprecationWarning: sklearn.externals.joblib is deprecated in 0.21 and will be removed in 0.23. Please import this functionality directly from joblib, which can be installed with: pip install joblib. If this warning is raised when loading pickled models, you may need to re-serialize those models with scikit-learn 0.21+.\n",
      "  warnings.warn(msg, category=DeprecationWarning)\n",
      "Using TensorFlow backend.\n"
     ]
    }
   ],
   "source": [
    "from toai.imports import *\n",
    "from jstai.data.DataSet import DataSet\n",
    "from jstai.image import augment, image_parse\n",
    "from jstai.plot import plot_images_dataset\n",
    "import tensorflow as tf\n",
    "from tensorflow import keras\n",
    "from tensorboardcolab import TensorBoardColab, TensorBoardColabCallback"
   ]
  },
  {
   "cell_type": "markdown",
   "metadata": {
    "colab_type": "text",
    "id": "0S4QhI3QD0ss"
   },
   "source": [
    "## Constants"
   ]
  },
  {
   "cell_type": "code",
   "execution_count": null,
   "metadata": {
    "colab": {},
    "colab_type": "code",
    "id": "8Mz_TGnNDyn-"
   },
   "outputs": [],
   "source": [
    "DATA_DIR = Path('data/boats')\n",
    "TEMP_DIR = Path('temp/boats')\n",
    "RANDOM_STATE = 42\n",
    "IMG_DIMS = (224, 224)\n",
    "BATCH_SIZE = 4"
   ]
  },
  {
   "cell_type": "code",
   "execution_count": null,
   "metadata": {
    "colab": {},
    "colab_type": "code",
    "id": "l8K-RuOzFA9D"
   },
   "outputs": [],
   "source": [
    "DATA_DIR.mkdir(parents=True, exist_ok=True)\n",
    "TEMP_DIR.mkdir(parents=True, exist_ok=True)"
   ]
  },
  {
   "cell_type": "markdown",
   "metadata": {
    "colab_type": "text",
    "id": "t2_YK2VEwNjK"
   },
   "source": [
    "### Download dataset"
   ]
  },
  {
   "cell_type": "code",
   "execution_count": 53,
   "metadata": {
    "colab": {
     "base_uri": "https://localhost:8080/",
     "height": 68
    },
    "colab_type": "code",
    "id": "4NYrgqqwoLtA",
    "outputId": "d88ce2b9-4082-4e54-a8ab-74d4618c600f"
   },
   "outputs": [
    {
     "name": "stdout",
     "output_type": "stream",
     "text": [
      "Downloading boat-types-recognition.zip to data/boats\n",
      " 99% 419M/421M [00:03<00:00, 149MB/s]\n",
      "100% 421M/421M [00:03<00:00, 111MB/s]\n"
     ]
    }
   ],
   "source": [
    "!kaggle datasets download -d clorichel/boat-types-recognition --unzip -p {DATA_DIR}"
   ]
  },
  {
   "cell_type": "code",
   "execution_count": null,
   "metadata": {
    "colab": {},
    "colab_type": "code",
    "id": "gaLnSJJfpKZ6"
   },
   "outputs": [],
   "source": [
    "!rm -R data/boats/__MACOSX/"
   ]
  },
  {
   "cell_type": "markdown",
   "metadata": {
    "colab_type": "text",
    "id": "qaKOET6ZtKEM"
   },
   "source": [
    "## Data set"
   ]
  },
  {
   "cell_type": "code",
   "execution_count": 55,
   "metadata": {
    "colab": {
     "base_uri": "https://localhost:8080/",
     "height": 204
    },
    "colab_type": "code",
    "id": "-LetNz33rmD_",
    "outputId": "20f94931-633a-4e9e-fb62-1a206bbf59a9"
   },
   "outputs": [
    {
     "data": {
      "text/html": [
       "<div>\n",
       "<style scoped>\n",
       "    .dataframe tbody tr th:only-of-type {\n",
       "        vertical-align: middle;\n",
       "    }\n",
       "\n",
       "    .dataframe tbody tr th {\n",
       "        vertical-align: top;\n",
       "    }\n",
       "\n",
       "    .dataframe thead th {\n",
       "        text-align: right;\n",
       "    }\n",
       "</style>\n",
       "<table border=\"1\" class=\"dataframe\">\n",
       "  <thead>\n",
       "    <tr style=\"text-align: right;\">\n",
       "      <th></th>\n",
       "      <th>class</th>\n",
       "      <th>file</th>\n",
       "    </tr>\n",
       "  </thead>\n",
       "  <tbody>\n",
       "    <tr>\n",
       "      <th>0</th>\n",
       "      <td>paper boat</td>\n",
       "      <td>data/boats/paper boat/origami-boat-fold-foldin...</td>\n",
       "    </tr>\n",
       "    <tr>\n",
       "      <th>1</th>\n",
       "      <td>paper boat</td>\n",
       "      <td>data/boats/paper boat/paper-boat-paper-folded-...</td>\n",
       "    </tr>\n",
       "    <tr>\n",
       "      <th>2</th>\n",
       "      <td>paper boat</td>\n",
       "      <td>data/boats/paper boat/figure-watercolor-painti...</td>\n",
       "    </tr>\n",
       "    <tr>\n",
       "      <th>3</th>\n",
       "      <td>paper boat</td>\n",
       "      <td>data/boats/paper boat/paper-boat-origami-25702...</td>\n",
       "    </tr>\n",
       "    <tr>\n",
       "      <th>4</th>\n",
       "      <td>paper boat</td>\n",
       "      <td>data/boats/paper boat/childhood-paper-boat-sim...</td>\n",
       "    </tr>\n",
       "  </tbody>\n",
       "</table>\n",
       "</div>"
      ],
      "text/plain": [
       "        class                                               file\n",
       "0  paper boat  data/boats/paper boat/origami-boat-fold-foldin...\n",
       "1  paper boat  data/boats/paper boat/paper-boat-paper-folded-...\n",
       "2  paper boat  data/boats/paper boat/figure-watercolor-painti...\n",
       "3  paper boat  data/boats/paper boat/paper-boat-origami-25702...\n",
       "4  paper boat  data/boats/paper boat/childhood-paper-boat-sim..."
      ]
     },
     "execution_count": 55,
     "metadata": {
      "tags": []
     },
     "output_type": "execute_result"
    }
   ],
   "source": [
    "data_set = DataSet(data_path=DATA_DIR)\n",
    "data_set.data.head()"
   ]
  },
  {
   "cell_type": "code",
   "execution_count": 56,
   "metadata": {
    "colab": {
     "base_uri": "https://localhost:8080/",
     "height": 68
    },
    "colab_type": "code",
    "id": "dJhWxRQCsB6h",
    "outputId": "e78e4dcc-3b5d-4faf-8a61-f400c5237feb"
   },
   "outputs": [
    {
     "data": {
      "text/plain": [
       "array(['paper boat', 'sailboat', 'cruise ship', 'inflatable boat',\n",
       "       'freight boat', 'buoy', 'ferry boat', 'kayak', 'gondola'],\n",
       "      dtype=object)"
      ]
     },
     "execution_count": 56,
     "metadata": {
      "tags": []
     },
     "output_type": "execute_result"
    }
   ],
   "source": [
    "data_set.classes"
   ]
  },
  {
   "cell_type": "code",
   "execution_count": null,
   "metadata": {
    "colab": {},
    "colab_type": "code",
    "id": "pF08NDFnFQxQ"
   },
   "outputs": [],
   "source": [
    "data_set.data = data_set.data[data_set.data['file'].str.contains(\".jpg\")]"
   ]
  },
  {
   "cell_type": "code",
   "execution_count": 58,
   "metadata": {
    "colab": {
     "base_uri": "https://localhost:8080/",
     "height": 362
    },
    "colab_type": "code",
    "id": "-MgLrR7XQryg",
    "outputId": "88f955d0-4e56-465c-db54-7d154ab4f123"
   },
   "outputs": [
    {
     "data": {
      "text/plain": [
       "<matplotlib.axes._subplots.AxesSubplot at 0x7fb5237f4588>"
      ]
     },
     "execution_count": 58,
     "metadata": {
      "tags": []
     },
     "output_type": "execute_result"
    },
    {
     "data": {
      "image/png": "[encoded data removed]",
      "text/plain": [
       "<Figure size 432x288 with 1 Axes>"
      ]
     },
     "metadata": {
      "tags": []
     },
     "output_type": "display_data"
    }
   ],
   "source": [
    "data_set.data.groupby(by=\"class\").count().plot.bar()"
   ]
  },
  {
   "cell_type": "code",
   "execution_count": null,
   "metadata": {
    "colab": {},
    "colab_type": "code",
    "id": "4szK8IeODW3S"
   },
   "outputs": [],
   "source": [
    "train_df, test_df = train_test_split(data_set.data, test_size=0.2, shuffle=True, random_state=RANDOM_STATE)\n",
    "test_df, val_df = train_test_split(test_df, test_size=0.5, shuffle=True, random_state=RANDOM_STATE)\n",
    "\n",
    "train_df.reset_index(drop=True, inplace=True)\n",
    "test_df.reset_index(drop=True, inplace=True)\n",
    "val_df.reset_index(drop=True, inplace=True)"
   ]
  },
  {
   "cell_type": "code",
   "execution_count": 60,
   "metadata": {
    "colab": {
     "base_uri": "https://localhost:8080/",
     "height": 34
    },
    "colab_type": "code",
    "id": "eJe_KDm657yN",
    "outputId": "9ad0fee5-004f-4f9c-f1a4-679bc3ed29c2"
   },
   "outputs": [
    {
     "data": {
      "text/plain": [
       "[(1169, 2), (147, 2), (146, 2)]"
      ]
     },
     "execution_count": 60,
     "metadata": {
      "tags": []
     },
     "output_type": "execute_result"
    }
   ],
   "source": [
    "[x.shape for x in (train_df, val_df, test_df)]"
   ]
  },
  {
   "cell_type": "code",
   "execution_count": 61,
   "metadata": {
    "colab": {
     "base_uri": "https://localhost:8080/",
     "height": 362
    },
    "colab_type": "code",
    "id": "y3TGIOEt2zpC",
    "outputId": "9c4e172b-b484-40e3-f26c-ab26b4d230a8"
   },
   "outputs": [
    {
     "data": {
      "text/plain": [
       "<matplotlib.axes._subplots.AxesSubplot at 0x7fb76807af28>"
      ]
     },
     "execution_count": 61,
     "metadata": {
      "tags": []
     },
     "output_type": "execute_result"
    },
    {
     "data": {
      "image/png": "[encoded data removed]",
      "text/plain": [
       "<Figure size 432x288 with 1 Axes>"
      ]
     },
     "metadata": {
      "tags": []
     },
     "output_type": "display_data"
    }
   ],
   "source": [
    "train_df.groupby(by=\"class\").count().plot.bar()"
   ]
  },
  {
   "cell_type": "markdown",
   "metadata": {
    "colab_type": "text",
    "id": "zJNcAN0Z8I4B"
   },
   "source": [
    "### Preprocessing"
   ]
  },
  {
   "cell_type": "code",
   "execution_count": 62,
   "metadata": {
    "colab": {
     "base_uri": "https://localhost:8080/",
     "height": 34
    },
    "colab_type": "code",
    "id": "q3sqIDmF4Or6",
    "outputId": "956aab86-3fa7-48e5-bbf9-be2afbc78e9a"
   },
   "outputs": [
    {
     "data": {
      "text/plain": [
       "LabelEncoder()"
      ]
     },
     "execution_count": 62,
     "metadata": {
      "tags": []
     },
     "output_type": "execute_result"
    }
   ],
   "source": [
    "label_encoder = LabelEncoder()\n",
    "n_classes = len(data_set.classes)\n",
    "label_encoder.fit(data_set.classes)"
   ]
  },
  {
   "cell_type": "code",
   "execution_count": null,
   "metadata": {
    "colab": {},
    "colab_type": "code",
    "id": "PYYckW9LCR5D"
   },
   "outputs": [],
   "source": [
    "with open(TEMP_DIR/\"label_encoder.pickle\", \"wb\") as f:\n",
    "    pickle.dump(label_encoder, f)\n",
    "with open(TEMP_DIR/\"label_encoder.pickle\", \"rb\") as f:\n",
    "    label_encoder = pickle.load(f)"
   ]
  },
  {
   "cell_type": "code",
   "execution_count": null,
   "metadata": {
    "colab": {},
    "colab_type": "code",
    "id": "fVEZiJGEBPLg"
   },
   "outputs": [],
   "source": [
    "class ModelDataset():\n",
    "  def __init__(self, data, labels, batch_size, preprocess_fn, augment_fn, shuffle=True, num_parallel_calls=-1, prefetch=0):\n",
    "    self.length = len(data)\n",
    "    self.batch_size = batch_size\n",
    "    self.steps_per_epoch = math.ceil(self.length/self.batch_size)\n",
    "\n",
    "    image_ds = (\n",
    "        tf.data.Dataset.from_tensor_slices(data)\n",
    "        .map(preprocess_fn, num_parallel_calls=num_parallel_calls)\n",
    "        .map(augment_fn, num_parallel_calls=num_parallel_calls)\n",
    "    )\n",
    "    label_ds = tf.data.Dataset.from_tensor_slices(tf.cast(labels, tf.float32))\n",
    "    self.data = tf.data.Dataset.zip((image_ds, label_ds))\n",
    "\n",
    "    if shuffle:\n",
    "        self.data = self.data.shuffle(self.length)\n",
    "\n",
    "    self.data = self.data.batch(self.batch_size)\n",
    "    self.data = self.data.repeat()\n",
    "    self.data = self.data.prefetch(prefetch)    "
   ]
  },
  {
   "cell_type": "code",
   "execution_count": null,
   "metadata": {
    "colab": {},
    "colab_type": "code",
    "id": "BgmpiAyU4pMY"
   },
   "outputs": [],
   "source": [
    "preprocess_fn = partial(tf.image.convert_image_dtype, dtype=tf.float32)\n",
    "preprocess_fn = partial(image_parse, preprocess_fn=preprocess_fn, img_dims=IMG_DIMS, mode=\"stretch\")"
   ]
  },
  {
   "cell_type": "code",
   "execution_count": null,
   "metadata": {
    "colab": {},
    "colab_type": "code",
    "id": "2zBHqdCA5Wja"
   },
   "outputs": [],
   "source": [
    "train_dataset = ModelDataset(\n",
    "    data=train_df['file'].values,\n",
    "    labels=label_encoder.transform(train_df['class']),\n",
    "    batch_size=BATCH_SIZE,\n",
    "    preprocess_fn=preprocess_fn,\n",
    "    augment_fn=partial(augment, image_dims=IMG_DIMS, level=0),\n",
    ")\n",
    "\n",
    "val_dataset = ModelDataset(\n",
    "    data=val_df['file'].values,\n",
    "    labels=label_encoder.transform(val_df['class']),\n",
    "    batch_size=BATCH_SIZE,\n",
    "    preprocess_fn=preprocess_fn,\n",
    "    augment_fn=partial(augment, image_dims=IMG_DIMS, level=0),\n",
    ")\n",
    "\n",
    "test_dataset = ModelDataset(\n",
    "    data=test_df['file'].values,\n",
    "    labels=label_encoder.transform(test_df['class']),\n",
    "    batch_size=BATCH_SIZE,\n",
    "    preprocess_fn=preprocess_fn,\n",
    "    augment_fn=partial(augment, image_dims=IMG_DIMS, level=0),\n",
    ")"
   ]
  },
  {
   "cell_type": "code",
   "execution_count": null,
   "metadata": {
    "colab": {
     "base_uri": "https://localhost:8080/",
     "height": 879
    },
    "colab_type": "code",
    "id": "5pkb2GVd9g_N",
    "outputId": "e1848c8d-9aeb-49d6-af48-94bde9904af6"
   },
   "outputs": [],
   "source": [
    "plot_images_dataset(train_dataset.data, 3, 3)"
   ]
  },
  {
   "cell_type": "code",
   "execution_count": null,
   "metadata": {
    "colab": {},
    "colab_type": "code",
    "id": "tluuwHDpBUWV"
   },
   "outputs": [],
   "source": [
    "def make_model(base_model, n_classes, dropout_rate, l1, l2):\n",
    "      x = keras.layers.concatenate([\n",
    "          keras.layers.GlobalAvgPool2D()(base_model.output),\n",
    "          keras.layers.GlobalMaxPool2D()(base_model.output),\n",
    "      ])\n",
    "      x = keras.layers.BatchNormalization()(x)\n",
    "      x = keras.layers.Dropout(dropout_rate)(x)\n",
    "      x = keras.layers.Dense(\n",
    "          n_classes,\n",
    "          kernel_regularizer=keras.regularizers.l1_l2(l1, l2),\n",
    "          activation=keras.activations.softmax,\n",
    "      )(x)\n",
    "      return keras.Model(inputs=base_model.inputs, outputs=x)"
   ]
  },
  {
   "cell_type": "code",
   "execution_count": null,
   "metadata": {
    "colab": {},
    "colab_type": "code",
    "id": "g6Mx8c01BDmh"
   },
   "outputs": [],
   "source": [
    "def train_model(model, train_data, val_data, optimizer, lr, epochs, easing_epochs, verbose=1):\n",
    "    if easing_epochs:\n",
    "        for layer in model.layers[:-1]:\n",
    "            layer.trainable = False\n",
    "\n",
    "        model.compile(\n",
    "            optimizer=optimizer(lr),\n",
    "            loss=keras.losses.sparse_categorical_crossentropy,\n",
    "            metrics=[\n",
    "                keras.metrics.sparse_categorical_accuracy,\n",
    "            ],\n",
    "        )\n",
    "        \n",
    "        easing_reduce_lr_patience = max(2, easing_epochs // 3)\n",
    "        easing_early_stopping_patience = max(2, easing_epochs // 2)\n",
    "\n",
    "        model.fit(\n",
    "            x=train_data.data,\n",
    "            steps_per_epoch=train_data.steps_per_epoch,\n",
    "            validation_data=val_data.data,\n",
    "            validation_steps=val_data.steps_per_epoch,\n",
    "            epochs=easing_epochs,\n",
    "            callbacks=[\n",
    "                keras.callbacks.ReduceLROnPlateau(factor=0.3, patience=easing_reduce_lr_patience),\n",
    "                keras.callbacks.EarlyStopping(patience=easing_early_stopping_patience, restore_best_weights=True),\n",
    " \n",
    "            ],\n",
    "            verbose=verbose,\n",
    "        )\n",
    "        \n",
    "        for layer in model.layers:\n",
    "            layer.trainable = True\n",
    "        \n",
    "    model.compile(\n",
    "        optimizer=optimizer(lr),\n",
    "        loss=keras.losses.sparse_categorical_crossentropy,\n",
    "        metrics=[\n",
    "            keras.metrics.sparse_categorical_accuracy,\n",
    "        ],\n",
    "    )\n",
    "    \n",
    "    reduce_lr_patience = max(5, epochs // 4)\n",
    "    early_stopping_patience = max(10, epochs // 2)\n",
    "\n",
    "    history = model.fit(\n",
    "        x=train_data.data,\n",
    "        steps_per_epoch=train_data.steps_per_epoch,\n",
    "        validation_data=val_data.data,\n",
    "        validation_steps=val_data.steps_per_epoch,\n",
    "        epochs=epochs,\n",
    "        callbacks=[\n",
    "            keras.callbacks.ReduceLROnPlateau(factor=0.3, patience=reduce_lr_patience),\n",
    "            keras.callbacks.EarlyStopping(monitor='sparse_categorical_accuracy', patience=early_stopping_patience, restore_best_weights=True), \n",
    "        ],\n",
    "        verbose=verbose,\n",
    "    )\n",
    "    \n",
    "    return history"
   ]
  },
  {
   "cell_type": "code",
   "execution_count": null,
   "metadata": {
    "colab": {},
    "colab_type": "code",
    "id": "iikj6s2R-rQf"
   },
   "outputs": [],
   "source": [
    "class BoatTypePredictor():\n",
    "  def __init__(\n",
    "    self,\n",
    "    n_classes,\n",
    "    input_shape,\n",
    "    base_model=None,\n",
    "    dropout_rate=0.0,\n",
    "    l1=1e-8,\n",
    "    l2=1e-8,\n",
    "  ):\n",
    "    self.model = make_model(\n",
    "      base_model=base_model,\n",
    "      n_classes=n_classes,\n",
    "      dropout_rate=dropout_rate,\n",
    "      l1=l1,\n",
    "      l2=l2\n",
    "    )\n",
    "    self.best_accuracy = 0.0\n",
    "  \n",
    "  def fit(self, train_data, val_data, optimizer=keras.optimizers.Adam, lr=1e-3, epochs=5, easing_epochs=5, verbose=1):\n",
    "    self.history = train_model(self.model, train_data, val_data, optimizer, lr, epochs, easing_epochs)\n",
    "\n",
    "  def evaluate(self, dataset):\n",
    "    return self.model.evaluate(x=dataset.data, steps=dataset.steps_per_epoch)\n",
    "\n",
    "  def predict(self, dataset):\n",
    "    return self.model.predict(dataset.data,steps=dataset.steps_per_epoch)\n",
    "  "
   ]
  },
  {
   "cell_type": "markdown",
   "metadata": {
    "colab_type": "text",
    "id": "w3pfP2cVqsSu"
   },
   "source": [
    "## Evaluation"
   ]
  },
  {
   "cell_type": "code",
   "execution_count": null,
   "metadata": {
    "colab": {},
    "colab_type": "code",
    "id": "3qslHbC5quwA"
   },
   "outputs": [],
   "source": [
    "def c_report(model, data):\n",
    "  test_labels = np.concatenate([\n",
    "    y.numpy() for _, y in data.data.take(data.steps_per_epoch)\n",
    "  ])\n",
    "  return classification_report(test_labels, model.predict(data).argmax(axis=1), output_dict=True)"
   ]
  },
  {
   "cell_type": "markdown",
   "metadata": {
    "colab_type": "text",
    "id": "s0Nd9WLu6HLC"
   },
   "source": [
    "## Comparing image nets"
   ]
  },
  {
   "cell_type": "code",
   "execution_count": null,
   "metadata": {
    "colab": {},
    "colab_type": "code",
    "id": "M-lfslFqEhzI"
   },
   "outputs": [],
   "source": [
    "image_nets = {\n",
    "  \"Xception\": keras.applications.Xception,\n",
    "  \"MobileNetV2\": keras.applications.MobileNetV2,\n",
    "  \"ResNet50\": keras.applications.ResNet50,\n",
    "}"
   ]
  },
  {
   "cell_type": "code",
   "execution_count": 84,
   "metadata": {
    "colab": {
     "base_uri": "https://localhost:8080/",
     "height": 1000
    },
    "colab_type": "code",
    "id": "MJLy5pxY6DsF",
    "outputId": "d13a7b83-39ea-4115-c794-352abdd017cb"
   },
   "outputs": [
    {
     "name": "stdout",
     "output_type": "stream",
     "text": [
      "==============================\n",
      "Xception\n",
      "Epoch 1/5\n",
      "293/293 [==============================] - 21s 71ms/step - loss: 1.6691 - sparse_categorical_accuracy: 0.4902 - val_loss: 0.8061 - val_sparse_categorical_accuracy: 0.7755\n",
      "Epoch 2/5\n",
      "293/293 [==============================] - 16s 56ms/step - loss: 1.4476 - sparse_categorical_accuracy: 0.5979 - val_loss: 0.9357 - val_sparse_categorical_accuracy: 0.7959\n",
      "Epoch 3/5\n",
      "293/293 [==============================] - 17s 57ms/step - loss: 1.2077 - sparse_categorical_accuracy: 0.6510 - val_loss: 0.9186 - val_sparse_categorical_accuracy: 0.8367\n",
      "Epoch 1/5\n",
      "293/293 [==============================] - 106s 360ms/step - loss: 1.6869 - sparse_categorical_accuracy: 0.5646 - val_loss: 1.9867 - val_sparse_categorical_accuracy: 0.4626\n",
      "Epoch 2/5\n",
      "293/293 [==============================] - 45s 155ms/step - loss: 1.4347 - sparse_categorical_accuracy: 0.5441 - val_loss: 5.9183 - val_sparse_categorical_accuracy: 0.4082\n",
      "Epoch 3/5\n",
      "293/293 [==============================] - 46s 156ms/step - loss: 1.4047 - sparse_categorical_accuracy: 0.5851 - val_loss: 4.1317 - val_sparse_categorical_accuracy: 0.4694\n",
      "Epoch 4/5\n",
      "293/293 [==============================] - 45s 153ms/step - loss: 1.4299 - sparse_categorical_accuracy: 0.5817 - val_loss: 9.0978 - val_sparse_categorical_accuracy: 0.3878\n",
      "Epoch 5/5\n",
      "293/293 [==============================] - 45s 154ms/step - loss: 1.7600 - sparse_categorical_accuracy: 0.4842 - val_loss: 3.4369 - val_sparse_categorical_accuracy: 0.3673\n"
     ]
    },
    {
     "name": "stderr",
     "output_type": "stream",
     "text": [
      "/usr/local/lib/python3.6/dist-packages/sklearn/metrics/classification.py:1437: UndefinedMetricWarning: Precision and F-score are ill-defined and being set to 0.0 in labels with no predicted samples.\n",
      "  'precision', 'predicted', average, warn_for)\n"
     ]
    },
    {
     "name": "stdout",
     "output_type": "stream",
     "text": [
      "              f1-score  precision    recall     support\n",
      "0.0           0.000000   0.000000  0.000000    3.000000\n",
      "1.0           0.600000   0.705882  0.521739   23.000000\n",
      "2.0           0.000000   0.000000  0.000000   13.000000\n",
      "3.0           0.000000   0.000000  0.000000    3.000000\n",
      "4.0           0.354839   0.305556  0.423077   26.000000\n",
      "5.0           0.000000   0.000000  0.000000    3.000000\n",
      "6.0           0.342857   0.266667  0.480000   25.000000\n",
      "7.0           0.181818   0.125000  0.333333    3.000000\n",
      "8.0           0.430769   0.777778  0.297872   47.000000\n",
      "accuracy      0.342466   0.342466  0.342466    0.342466\n",
      "macro avg     0.212254   0.242320  0.228447  146.000000\n",
      "weighted avg  0.358828   0.464226  0.342466  146.000000\n",
      "==============================\n",
      "MobileNetV2\n",
      "Epoch 1/5\n",
      "293/293 [==============================] - 17s 59ms/step - loss: 6.0177 - sparse_categorical_accuracy: 0.3995 - val_loss: 5.7317 - val_sparse_categorical_accuracy: 0.5714\n",
      "Epoch 2/5\n",
      "293/293 [==============================] - 12s 41ms/step - loss: 7.0645 - sparse_categorical_accuracy: 0.4311 - val_loss: 5.9042 - val_sparse_categorical_accuracy: 0.5578\n",
      "Epoch 3/5\n",
      "293/293 [==============================] - 12s 41ms/step - loss: 5.5717 - sparse_categorical_accuracy: 0.5244 - val_loss: 5.4255 - val_sparse_categorical_accuracy: 0.5850\n",
      "Epoch 4/5\n",
      "293/293 [==============================] - 12s 41ms/step - loss: 5.8866 - sparse_categorical_accuracy: 0.5047 - val_loss: 6.0469 - val_sparse_categorical_accuracy: 0.5578\n",
      "Epoch 5/5\n",
      "293/293 [==============================] - 12s 42ms/step - loss: 6.1349 - sparse_categorical_accuracy: 0.5346 - val_loss: 5.4051 - val_sparse_categorical_accuracy: 0.6190\n",
      "Epoch 1/5\n",
      "293/293 [==============================] - 72s 247ms/step - loss: 2.2253 - sparse_categorical_accuracy: 0.4388 - val_loss: 10.9942 - val_sparse_categorical_accuracy: 0.2721\n",
      "Epoch 2/5\n",
      "293/293 [==============================] - 32s 110ms/step - loss: 1.7629 - sparse_categorical_accuracy: 0.4773 - val_loss: 12.1920 - val_sparse_categorical_accuracy: 0.1293\n",
      "Epoch 3/5\n",
      "293/293 [==============================] - 32s 109ms/step - loss: 1.9720 - sparse_categorical_accuracy: 0.4457 - val_loss: 6.6653 - val_sparse_categorical_accuracy: 0.1293\n",
      "Epoch 4/5\n",
      "293/293 [==============================] - 32s 110ms/step - loss: 2.0342 - sparse_categorical_accuracy: 0.3550 - val_loss: 5.5148 - val_sparse_categorical_accuracy: 0.2041\n",
      "Epoch 5/5\n",
      "293/293 [==============================] - 32s 111ms/step - loss: 1.9994 - sparse_categorical_accuracy: 0.4123 - val_loss: 6.0331 - val_sparse_categorical_accuracy: 0.2313\n"
     ]
    },
    {
     "name": "stderr",
     "output_type": "stream",
     "text": [
      "/usr/local/lib/python3.6/dist-packages/sklearn/metrics/classification.py:1437: UndefinedMetricWarning: Precision and F-score are ill-defined and being set to 0.0 in labels with no predicted samples.\n",
      "  'precision', 'predicted', average, warn_for)\n"
     ]
    },
    {
     "name": "stdout",
     "output_type": "stream",
     "text": [
      "              f1-score  precision    recall     support\n",
      "0.0           0.000000   0.000000  0.000000    3.000000\n",
      "1.0           0.000000   0.000000  0.000000   23.000000\n",
      "2.0           0.000000   0.000000  0.000000   13.000000\n",
      "3.0           0.000000   0.000000  0.000000    3.000000\n",
      "4.0           0.114286   0.222222  0.076923   26.000000\n",
      "5.0           0.000000   0.000000  0.000000    3.000000\n",
      "6.0           0.273973   0.165289  0.800000   25.000000\n",
      "7.0           0.000000   0.000000  0.000000    3.000000\n",
      "8.0           0.126984   0.250000  0.085106   47.000000\n",
      "accuracy      0.178082   0.178082  0.178082    0.178082\n",
      "macro avg     0.057249   0.070835  0.106892  146.000000\n",
      "weighted avg  0.108144   0.148356  0.178082  146.000000\n",
      "==============================\n",
      "ResNet50\n"
     ]
    },
    {
     "name": "stderr",
     "output_type": "stream",
     "text": [
      "/usr/local/lib/python3.6/dist-packages/keras_applications/resnet50.py:265: UserWarning: The output shape of `ResNet50(include_top=False)` has been changed since Keras 2.2.0.\n",
      "  warnings.warn('The output shape of `ResNet50(include_top=False)` '\n"
     ]
    },
    {
     "name": "stdout",
     "output_type": "stream",
     "text": [
      "Epoch 1/5\n",
      "293/293 [==============================] - 23s 79ms/step - loss: 6.8520 - sparse_categorical_accuracy: 0.4696 - val_loss: 5.1719 - val_sparse_categorical_accuracy: 0.3265\n",
      "Epoch 2/5\n",
      "293/293 [==============================] - 16s 56ms/step - loss: 6.6662 - sparse_categorical_accuracy: 0.5338 - val_loss: 6.9871 - val_sparse_categorical_accuracy: 0.3265\n",
      "Epoch 3/5\n",
      "293/293 [==============================] - 16s 55ms/step - loss: 7.2085 - sparse_categorical_accuracy: 0.5133 - val_loss: 10.4153 - val_sparse_categorical_accuracy: 0.3265\n",
      "Epoch 1/5\n",
      "293/293 [==============================] - 90s 305ms/step - loss: 3.8655 - sparse_categorical_accuracy: 0.2695 - val_loss: 4.9958 - val_sparse_categorical_accuracy: 0.2789\n",
      "Epoch 2/5\n",
      "293/293 [==============================] - 40s 135ms/step - loss: 3.0734 - sparse_categorical_accuracy: 0.2447 - val_loss: 13.6714 - val_sparse_categorical_accuracy: 0.1293\n",
      "Epoch 3/5\n",
      "293/293 [==============================] - 40s 135ms/step - loss: 3.2473 - sparse_categorical_accuracy: 0.2412 - val_loss: 7.2280 - val_sparse_categorical_accuracy: 0.2925\n",
      "Epoch 4/5\n",
      "293/293 [==============================] - 40s 135ms/step - loss: 2.9503 - sparse_categorical_accuracy: 0.2344 - val_loss: 3.7629 - val_sparse_categorical_accuracy: 0.3061\n",
      "Epoch 5/5\n",
      "293/293 [==============================] - 39s 134ms/step - loss: 2.8946 - sparse_categorical_accuracy: 0.2361 - val_loss: 5.4525 - val_sparse_categorical_accuracy: 0.2177\n"
     ]
    },
    {
     "name": "stderr",
     "output_type": "stream",
     "text": [
      "/usr/local/lib/python3.6/dist-packages/sklearn/metrics/classification.py:1437: UndefinedMetricWarning: Precision and F-score are ill-defined and being set to 0.0 in labels with no predicted samples.\n",
      "  'precision', 'predicted', average, warn_for)\n"
     ]
    },
    {
     "name": "stdout",
     "output_type": "stream",
     "text": [
      "              f1-score  precision    recall     support\n",
      "0.0           0.076923   0.043478  0.333333    3.000000\n",
      "1.0           0.076923   0.333333  0.043478   23.000000\n",
      "2.0           0.000000   0.000000  0.000000   13.000000\n",
      "3.0           0.000000   0.000000  0.000000    3.000000\n",
      "4.0           0.169492   0.151515  0.192308   26.000000\n",
      "5.0           0.000000   0.000000  0.000000    3.000000\n",
      "6.0           0.062500   0.142857  0.040000   25.000000\n",
      "7.0           0.000000   0.000000  0.000000    3.000000\n",
      "8.0           0.444444   0.354430  0.595745   47.000000\n",
      "accuracy      0.246575   0.246575  0.246575    0.246575\n",
      "macro avg     0.092254   0.113957  0.133874  146.000000\n",
      "weighted avg  0.197659   0.218946  0.246575  146.000000\n"
     ]
    },
    {
     "data": {
      "image/png": "[encoded data removed]",
      "text/plain": [
       "<Figure size 432x288 with 1 Axes>"
      ]
     },
     "metadata": {
      "tags": []
     },
     "output_type": "display_data"
    },
    {
     "data": {
      "image/png": "[encoded data removed]",
      "text/plain": [
       "<Figure size 432x288 with 1 Axes>"
      ]
     },
     "metadata": {
      "tags": []
     },
     "output_type": "display_data"
    },
    {
     "data": {
      "image/png": "[encoded data removed]",
      "text/plain": [
       "<Figure size 432x288 with 1 Axes>"
      ]
     },
     "metadata": {
      "tags": []
     },
     "output_type": "display_data"
    }
   ],
   "source": [
    "for (net_title, net) in image_nets.items():\n",
    "  print(\"==============================\")\n",
    "  print(net_title)\n",
    "  image_net = net(include_top=False, input_shape=IMG_DIMS + (3,))\n",
    "  predictor = BoatTypePredictor(base_model=image_net, n_classes=n_classes, input_shape=IMG_DIMS + (3,))\n",
    "\n",
    "  predictor.fit(train_data=train_dataset, val_data=val_dataset, epochs=5, easing_epochs=5)\n",
    "  model_path = str(TEMP_DIR/(net_title + '.h5'))\n",
    "  predictor.model.save(model_path)\n",
    "\n",
    "  report = pd.DataFrame(c_report(predictor, test_dataset)).T\n",
    "  print(report)\n",
    "  report[['precision', 'recall']].plot.bar()\n",
    "  del predictor\n",
    "  keras.backend.clear_session()"
   ]
  },
  {
   "cell_type": "markdown",
   "metadata": {
    "colab_type": "text",
    "id": "02HzZkkFQn1q"
   },
   "source": [
    "## Iterating more epochs"
   ]
  },
  {
   "cell_type": "code",
   "execution_count": 85,
   "metadata": {
    "colab": {
     "base_uri": "https://localhost:8080/",
     "height": 1000
    },
    "colab_type": "code",
    "id": "x4GWJwOQ5Ih_",
    "outputId": "7fcd7c5e-c48b-4110-b86f-849e3c23cf0c"
   },
   "outputs": [
    {
     "name": "stdout",
     "output_type": "stream",
     "text": [
      "Epoch 1/10\n",
      "293/293 [==============================] - 21s 70ms/step - loss: 1.7612 - sparse_categorical_accuracy: 0.4833 - val_loss: 0.8136 - val_sparse_categorical_accuracy: 0.7891\n",
      "Epoch 2/10\n",
      "293/293 [==============================] - 16s 54ms/step - loss: 1.5363 - sparse_categorical_accuracy: 0.5697 - val_loss: 1.0606 - val_sparse_categorical_accuracy: 0.8163\n",
      "Epoch 3/10\n",
      "293/293 [==============================] - 16s 54ms/step - loss: 1.3289 - sparse_categorical_accuracy: 0.6296 - val_loss: 1.0188 - val_sparse_categorical_accuracy: 0.8163\n",
      "Epoch 4/10\n",
      "293/293 [==============================] - 16s 55ms/step - loss: 1.3159 - sparse_categorical_accuracy: 0.6484 - val_loss: 0.9029 - val_sparse_categorical_accuracy: 0.8163\n",
      "Epoch 5/10\n",
      "293/293 [==============================] - 16s 56ms/step - loss: 0.9111 - sparse_categorical_accuracy: 0.7203 - val_loss: 0.6086 - val_sparse_categorical_accuracy: 0.8367\n",
      "Epoch 6/10\n",
      "293/293 [==============================] - 16s 55ms/step - loss: 0.8966 - sparse_categorical_accuracy: 0.7169 - val_loss: 0.6829 - val_sparse_categorical_accuracy: 0.8299\n",
      "Epoch 7/10\n",
      "293/293 [==============================] - 16s 55ms/step - loss: 0.8000 - sparse_categorical_accuracy: 0.7562 - val_loss: 0.7017 - val_sparse_categorical_accuracy: 0.8299\n",
      "Epoch 8/10\n",
      "293/293 [==============================] - 16s 55ms/step - loss: 0.8493 - sparse_categorical_accuracy: 0.7357 - val_loss: 0.6655 - val_sparse_categorical_accuracy: 0.8095\n",
      "Epoch 9/10\n",
      "293/293 [==============================] - 16s 55ms/step - loss: 0.7532 - sparse_categorical_accuracy: 0.7528 - val_loss: 0.7148 - val_sparse_categorical_accuracy: 0.8367\n",
      "Epoch 10/10\n",
      "293/293 [==============================] - 16s 55ms/step - loss: 0.7390 - sparse_categorical_accuracy: 0.7571 - val_loss: 0.7022 - val_sparse_categorical_accuracy: 0.8027\n",
      "Epoch 1/20\n",
      "293/293 [==============================] - 83s 282ms/step - loss: 2.2609 - sparse_categorical_accuracy: 0.4226 - val_loss: 1.8779 - val_sparse_categorical_accuracy: 0.3878\n",
      "Epoch 2/20\n",
      "293/293 [==============================] - 46s 155ms/step - loss: 1.6760 - sparse_categorical_accuracy: 0.4423 - val_loss: 4.5779 - val_sparse_categorical_accuracy: 0.4286\n",
      "Epoch 3/20\n",
      "293/293 [==============================] - 46s 157ms/step - loss: 1.7346 - sparse_categorical_accuracy: 0.4294 - val_loss: 2.2437 - val_sparse_categorical_accuracy: 0.4694\n",
      "Epoch 4/20\n",
      "293/293 [==============================] - 46s 158ms/step - loss: 1.7529 - sparse_categorical_accuracy: 0.4192 - val_loss: 7.4405 - val_sparse_categorical_accuracy: 0.1429\n",
      "Epoch 5/20\n",
      "293/293 [==============================] - 46s 158ms/step - loss: 1.6309 - sparse_categorical_accuracy: 0.5038 - val_loss: 3.9918 - val_sparse_categorical_accuracy: 0.4762\n",
      "Epoch 6/20\n",
      "293/293 [==============================] - 46s 157ms/step - loss: 1.6713 - sparse_categorical_accuracy: 0.4885 - val_loss: 3.5705 - val_sparse_categorical_accuracy: 0.4558\n",
      "Epoch 7/20\n",
      "293/293 [==============================] - 46s 158ms/step - loss: 1.4717 - sparse_categorical_accuracy: 0.5415 - val_loss: 1.9855 - val_sparse_categorical_accuracy: 0.6122\n",
      "Epoch 8/20\n",
      "293/293 [==============================] - 47s 159ms/step - loss: 1.3666 - sparse_categorical_accuracy: 0.5911 - val_loss: 2.5037 - val_sparse_categorical_accuracy: 0.5238\n",
      "Epoch 9/20\n",
      "293/293 [==============================] - 46s 158ms/step - loss: 1.2844 - sparse_categorical_accuracy: 0.6082 - val_loss: 1.5217 - val_sparse_categorical_accuracy: 0.6667\n",
      "Epoch 10/20\n",
      "293/293 [==============================] - 47s 159ms/step - loss: 1.2701 - sparse_categorical_accuracy: 0.6219 - val_loss: 1.3535 - val_sparse_categorical_accuracy: 0.6054\n",
      "Epoch 11/20\n",
      "293/293 [==============================] - 47s 160ms/step - loss: 1.2882 - sparse_categorical_accuracy: 0.6005 - val_loss: 1.8447 - val_sparse_categorical_accuracy: 0.5034\n",
      "Epoch 12/20\n",
      "293/293 [==============================] - 46s 158ms/step - loss: 1.2551 - sparse_categorical_accuracy: 0.6039 - val_loss: 1.6293 - val_sparse_categorical_accuracy: 0.6599\n",
      "Epoch 13/20\n",
      "293/293 [==============================] - 46s 158ms/step - loss: 1.1236 - sparse_categorical_accuracy: 0.6501 - val_loss: 1.3654 - val_sparse_categorical_accuracy: 0.6327\n",
      "Epoch 14/20\n",
      "293/293 [==============================] - 46s 157ms/step - loss: 1.0982 - sparse_categorical_accuracy: 0.6758 - val_loss: 1.5180 - val_sparse_categorical_accuracy: 0.6599\n",
      "Epoch 15/20\n",
      "293/293 [==============================] - 47s 159ms/step - loss: 1.0405 - sparse_categorical_accuracy: 0.6784 - val_loss: 1.2833 - val_sparse_categorical_accuracy: 0.6735\n",
      "Epoch 16/20\n",
      "293/293 [==============================] - 47s 160ms/step - loss: 0.9611 - sparse_categorical_accuracy: 0.6980 - val_loss: 1.7541 - val_sparse_categorical_accuracy: 0.5918\n",
      "Epoch 17/20\n",
      "293/293 [==============================] - 47s 159ms/step - loss: 0.9191 - sparse_categorical_accuracy: 0.7100 - val_loss: 1.4793 - val_sparse_categorical_accuracy: 0.6259\n",
      "Epoch 18/20\n",
      "293/293 [==============================] - 47s 159ms/step - loss: 0.8608 - sparse_categorical_accuracy: 0.7331 - val_loss: 1.3439 - val_sparse_categorical_accuracy: 0.6871\n",
      "Epoch 19/20\n",
      "293/293 [==============================] - 46s 158ms/step - loss: 0.7889 - sparse_categorical_accuracy: 0.7553 - val_loss: 1.4968 - val_sparse_categorical_accuracy: 0.6599\n",
      "Epoch 20/20\n",
      "293/293 [==============================] - 47s 159ms/step - loss: 0.7178 - sparse_categorical_accuracy: 0.7682 - val_loss: 2.5435 - val_sparse_categorical_accuracy: 0.5986\n"
     ]
    },
    {
     "name": "stderr",
     "output_type": "stream",
     "text": [
      "/usr/local/lib/python3.6/dist-packages/sklearn/metrics/classification.py:1437: UndefinedMetricWarning: Precision and F-score are ill-defined and being set to 0.0 in labels with no predicted samples.\n",
      "  'precision', 'predicted', average, warn_for)\n"
     ]
    },
    {
     "name": "stdout",
     "output_type": "stream",
     "text": [
      "              f1-score  precision    recall     support\n",
      "0.0           0.000000   0.000000  0.000000    3.000000\n",
      "1.0           0.666667   0.558824  0.826087   23.000000\n",
      "2.0           0.125000   0.333333  0.076923   13.000000\n",
      "3.0           0.000000   0.000000  0.000000    3.000000\n",
      "4.0           0.791667   0.863636  0.730769   26.000000\n",
      "5.0           0.000000   0.000000  0.000000    3.000000\n",
      "6.0           0.526316   0.769231  0.400000   25.000000\n",
      "7.0           0.181818   0.125000  0.333333    3.000000\n",
      "8.0           0.681319   0.704545  0.659574   47.000000\n",
      "accuracy      0.554795   0.554795  0.554795    0.554795\n",
      "macro avg     0.330310   0.372730  0.336299  146.000000\n",
      "weighted avg  0.570322   0.632604  0.554795  146.000000\n"
     ]
    },
    {
     "data": {
      "image/png": "[encoded data removed]",
      "text/plain": [
       "<Figure size 432x288 with 1 Axes>"
      ]
     },
     "metadata": {
      "tags": []
     },
     "output_type": "display_data"
    }
   ],
   "source": [
    "image_net = keras.applications.Xception(include_top=False, input_shape=IMG_DIMS + (3,))\n",
    "predictor = BoatTypePredictor(base_model=image_net, n_classes=n_classes, dropout_rate=0.2, input_shape=IMG_DIMS + (3,))\n",
    "predictor.fit(train_data=train_dataset, val_data=val_dataset, epochs=20, easing_epochs=10)\n"
   ]
  },
  {
   "cell_type": "code",
   "execution_count": 87,
   "metadata": {
    "colab": {
     "base_uri": "https://localhost:8080/",
     "height": 377
    },
    "colab_type": "code",
    "id": "8gmkGpb_Qh5a",
    "outputId": "6b09b196-f5a2-4494-d02f-8b8165c2739d"
   },
   "outputs": [
    {
     "name": "stdout",
     "output_type": "stream",
     "text": [
      "Epoch 1/10\n",
      "293/293 [==============================] - 39s 135ms/step - loss: 1.8236 - sparse_categorical_accuracy: 0.4722 - val_loss: 0.6790 - val_sparse_categorical_accuracy: 0.7959\n",
      "Epoch 2/10\n",
      "293/293 [==============================] - 16s 55ms/step - loss: 1.4570 - sparse_categorical_accuracy: 0.5954 - val_loss: 0.8167 - val_sparse_categorical_accuracy: 0.8231\n",
      "Epoch 3/10\n",
      "293/293 [==============================] - 16s 56ms/step - loss: 1.2678 - sparse_categorical_accuracy: 0.6441 - val_loss: 0.8961 - val_sparse_categorical_accuracy: 0.8299\n",
      "Epoch 4/10\n",
      "293/293 [==============================] - 16s 56ms/step - loss: 1.4266 - sparse_categorical_accuracy: 0.6296 - val_loss: 0.9318 - val_sparse_categorical_accuracy: 0.8231\n",
      "Epoch 5/10\n",
      "293/293 [==============================] - 16s 56ms/step - loss: 0.9203 - sparse_categorical_accuracy: 0.7297 - val_loss: 0.5331 - val_sparse_categorical_accuracy: 0.8435\n",
      "Epoch 6/10\n",
      "293/293 [==============================] - 16s 55ms/step - loss: 0.8854 - sparse_categorical_accuracy: 0.7203 - val_loss: 0.5466 - val_sparse_categorical_accuracy: 0.8367\n",
      "Epoch 7/10\n",
      "293/293 [==============================] - 16s 56ms/step - loss: 0.8848 - sparse_categorical_accuracy: 0.7263 - val_loss: 0.5836 - val_sparse_categorical_accuracy: 0.8299\n",
      "Epoch 8/10\n",
      "293/293 [==============================] - 16s 56ms/step - loss: 0.8276 - sparse_categorical_accuracy: 0.7434 - val_loss: 0.5633 - val_sparse_categorical_accuracy: 0.8299\n",
      "Epoch 9/10\n",
      "293/293 [==============================] - 16s 56ms/step - loss: 0.7574 - sparse_categorical_accuracy: 0.7562 - val_loss: 0.5889 - val_sparse_categorical_accuracy: 0.8299\n",
      "Epoch 10/10\n",
      "293/293 [==============================] - 16s 56ms/step - loss: 0.7131 - sparse_categorical_accuracy: 0.7536 - val_loss: 0.5757 - val_sparse_categorical_accuracy: 0.8095\n"
     ]
    }
   ],
   "source": [
    "image_net = keras.applications.Xception(include_top=False, input_shape=IMG_DIMS + (3,))\n",
    "predictor = BoatTypePredictor(base_model=image_net, n_classes=n_classes, dropout_rate=0.2, input_shape=IMG_DIMS + (3,))\n",
    "predictor.fit(train_data=train_dataset, val_data=val_dataset, epochs=0, easing_epochs=10)"
   ]
  },
  {
   "cell_type": "code",
   "execution_count": 89,
   "metadata": {
    "colab": {
     "base_uri": "https://localhost:8080/",
     "height": 565
    },
    "colab_type": "code",
    "id": "8aGnmpmTZgfw",
    "outputId": "b78a51e6-f729-44bb-c8c3-7034bd5f06ef"
   },
   "outputs": [
    {
     "name": "stdout",
     "output_type": "stream",
     "text": [
      "              f1-score  precision    recall     support\n",
      "0.0           0.500000   1.000000  0.333333    3.000000\n",
      "1.0           0.800000   0.687500  0.956522   23.000000\n",
      "2.0           0.352941   0.750000  0.230769   13.000000\n",
      "3.0           0.285714   0.181818  0.666667    3.000000\n",
      "4.0           0.960000   1.000000  0.923077   26.000000\n",
      "5.0           0.400000   0.500000  0.333333    3.000000\n",
      "6.0           0.867925   0.821429  0.920000   25.000000\n",
      "7.0           1.000000   1.000000  1.000000    3.000000\n",
      "8.0           0.840909   0.902439  0.787234   47.000000\n",
      "accuracy      0.794521   0.794521  0.794521    0.794521\n",
      "macro avg     0.667499   0.760354  0.683437  146.000000\n",
      "weighted avg  0.792645   0.839440  0.794521  146.000000\n"
     ]
    },
    {
     "data": {
      "text/plain": [
       "<matplotlib.axes._subplots.AxesSubplot at 0x7fb7144b4c18>"
      ]
     },
     "execution_count": 89,
     "metadata": {
      "tags": []
     },
     "output_type": "execute_result"
    },
    {
     "data": {
      "image/png": "[encoded data removed]",
      "text/plain": [
       "<Figure size 432x288 with 1 Axes>"
      ]
     },
     "metadata": {
      "tags": []
     },
     "output_type": "display_data"
    }
   ],
   "source": [
    "report = pd.DataFrame(c_report(predictor, test_dataset)).T\n",
    "print(report)\n",
    "report[['precision', 'recall']].plot.bar()"
   ]
  },
  {
   "cell_type": "code",
   "execution_count": null,
   "metadata": {
    "colab": {},
    "colab_type": "code",
    "id": "Nh_HtuSXaj2-"
   },
   "outputs": [],
   "source": [
    "  model_path = str(TEMP_DIR/'best_model.h5')\n",
    "  predictor.model.save(model_path)"
   ]
  },
  {
   "cell_type": "code",
   "execution_count": 96,
   "metadata": {
    "colab": {
     "base_uri": "https://localhost:8080/",
     "height": 34
    },
    "colab_type": "code",
    "id": "2yv4B9cVa3zk",
    "outputId": "cb781023-c537-40e7-f75e-c13f60482780"
   },
   "outputs": [
    {
     "data": {
      "text/plain": [
       "{}"
      ]
     },
     "execution_count": 96,
     "metadata": {
      "tags": []
     },
     "output_type": "execute_result"
    }
   ],
   "source": []
  },
  {
   "cell_type": "code",
   "execution_count": null,
   "metadata": {
    "colab": {},
    "colab_type": "code",
    "id": "323m0VJJbDBt"
   },
   "outputs": [],
   "source": []
  }
 ],
 "metadata": {
  "accelerator": "GPU",
  "colab": {
   "collapsed_sections": [],
   "machine_shape": "hm",
   "name": "s7_project (1).ipynb",
   "provenance": [],
   "toc_visible": true,
   "version": "0.3.2"
  },
  "kernelspec": {
   "display_name": "Python 3",
   "language": "python",
   "name": "python3"
  },
  "language_info": {
   "codemirror_mode": {
    "name": "ipython",
    "version": 3
   },
   "file_extension": ".py",
   "mimetype": "text/x-python",
   "name": "python",
   "nbconvert_exporter": "python",
   "pygments_lexer": "ipython3",
   "version": "3.7.3"
  }
 },
 "nbformat": 4,
 "nbformat_minor": 4
}
